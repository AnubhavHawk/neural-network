{
 "cells": [
  {
   "cell_type": "code",
   "execution_count": 2,
   "metadata": {},
   "outputs": [],
   "source": [
    "import numpy as np\n",
    "from matplotlib import pyplot as plt\n",
    "%matplotlib inline"
   ]
  },
  {
   "cell_type": "code",
   "execution_count": 3,
   "metadata": {},
   "outputs": [],
   "source": [
    "#data = [ [length_of_flower, width_of_flower, color_of_flower] ]\n",
    "#1 = red color\n",
    "#0 = blue color\n",
    "data = [\n",
    "        [3, 1.5, 1],\n",
    "        [2, 1, 0],\n",
    "        [4, 1.5, 1],\n",
    "        [3, 1, 0],\n",
    "        [3.5, 0.5, 1],\n",
    "        [2, 0.5, 0],\n",
    "        [5.5, 1, 1],\n",
    "        [1, 1, 0]\n",
    "]\n",
    "mystrey_flower = [4.5, 1]"
   ]
  },
  {
   "cell_type": "code",
   "execution_count": 143,
   "metadata": {},
   "outputs": [
    {
     "data": {
      "image/png": "[encoded data removed]",
      "text/plain": [
       "<Figure size 432x288 with 1 Axes>"
      ]
     },
     "metadata": {
      "needs_background": "light"
     },
     "output_type": "display_data"
    }
   ],
   "source": [
    "#lets plot our datasets abvailable\n",
    "plt.grid()\n",
    "plt.axis([0,6,0,6])\n",
    "for i in range(len(data)):\n",
    "    point = data[i]\n",
    "    if(point[2] == 0):\n",
    "        plt.scatter(point[0], point[1], c = \"b\")\n",
    "    else:\n",
    "        plt.scatter(point[0], point[1], c = \"r\")"
   ]
  },
  {
   "cell_type": "code",
   "execution_count": 5,
   "metadata": {},
   "outputs": [],
   "source": [
    "def sigmoid(x):\n",
    "    return 1/(1 + np.exp(-x))\n",
    "\n",
    "def sigmoid_p(x):\n",
    "    return (sigmoid(x)*(1 - sigmoid(x)))"
   ]
  },
  {
   "cell_type": "code",
   "execution_count": 144,
   "metadata": {},
   "outputs": [
    {
     "data": {
      "text/plain": [
       "[<matplotlib.lines.Line2D at 0x11ee7ba8>]"
      ]
     },
     "execution_count": 144,
     "metadata": {},
     "output_type": "execute_result"
    },
    {
     "data": {
      "image/png": "[encoded data removed]",
      "text/plain": [
       "<Figure size 432x288 with 1 Axes>"
      ]
     },
     "metadata": {
      "needs_background": "light"
     },
     "output_type": "display_data"
    }
   ],
   "source": [
    "#let's just check our sigmoid function and its derivative by visulaizing it for some values\n",
    "\n",
    "X = np.linspace(10, -10, 100)\n",
    "plt.plot(X, sigmoid(X))\n",
    "plt.plot(X, sigmoid_p(X), color= \"green\")"
   ]
  },
  {
   "cell_type": "code",
   "execution_count": 95,
   "metadata": {},
   "outputs": [
    {
     "data": {
      "text/plain": [
       "9"
      ]
     },
     "execution_count": 95,
     "metadata": {},
     "output_type": "execute_result"
    }
   ],
   "source": [
    "np.random.randint(10)"
   ]
  },
  {
   "cell_type": "code",
   "execution_count": 110,
   "metadata": {},
   "outputs": [],
   "source": [
    "w1 = np.random.randn()\n",
    "w2 = np.random.randn()\n",
    "b  = np.random.randn()"
   ]
  },
  {
   "cell_type": "code",
   "execution_count": 166,
   "metadata": {},
   "outputs": [],
   "source": [
    "learning_rate = 0.01\n",
    "for i in range(10000):\n",
    "    random_index = np.random.randint(len(data))\n",
    "    point = data[random_index]\n",
    "    z = w1*point[0] + w2*point[1] + b\n",
    "    pred = sigmoid(z)\n",
    "    target = point[2]\n",
    "    cost = np.square(pred - target)\n",
    "    \n",
    "    #derivatives or the slopes\n",
    "    dcost_dpred = 2*(pred - target)\n",
    "    dpred_dz = sigmoid_p(z)\n",
    "    dz_dw1 = point[0]\n",
    "    dz_dw2 = point[1]\n",
    "    dz_db  = 1\n",
    "    \n",
    "    dcost_dw1 = dcost_dpred * dpred_dz * dz_dw1\n",
    "    dcost_dw2 = dcost_dpred * dpred_dz * dz_dw2\n",
    "    dcost_db  = dcost_dpred * dpred_dz * dz_db\n",
    "    \n",
    "    #update the randomly initilaised variables w1, w2 and b\n",
    "    w1 -= learning_rate * dcost_dw1\n",
    "    w2 -= learning_rate * dcost_dw2\n",
    "    b  -= learning_rate * dcost_db    "
   ]
  },
  {
   "cell_type": "code",
   "execution_count": 164,
   "metadata": {},
   "outputs": [],
   "source": [
    "def find_color(length, width):\n",
    "    z = length * w1 + width * w2 + b\n",
    "    pred = sigmoid(z)\n",
    "    if(pred > 0.5):\n",
    "        print(\"Red flower\")\n",
    "    else:\n",
    "        print(\"Blue flower\")"
   ]
  },
  {
   "cell_type": "code",
   "execution_count": 167,
   "metadata": {},
   "outputs": [
    {
     "name": "stdout",
     "output_type": "stream",
     "text": [
      "[3, 1.5, 1]\n",
      "Red flower\n",
      "[2, 1, 0]\n",
      "Blue flower\n",
      "[4, 1.5, 1]\n",
      "Red flower\n",
      "[3, 1, 0]\n",
      "Red flower\n",
      "[3.5, 0.5, 1]\n",
      "Red flower\n",
      "[2, 0.5, 0]\n",
      "Blue flower\n",
      "[5.5, 1, 1]\n",
      "Red flower\n",
      "[1, 1, 0]\n",
      "Blue flower\n"
     ]
    }
   ],
   "source": [
    "for i in range(len(data)):\n",
    "    point = data[i]\n",
    "    print(point)\n",
    "    find_color(point[0], point[1])"
   ]
  },
  {
   "cell_type": "code",
   "execution_count": 172,
   "metadata": {},
   "outputs": [
    {
     "name": "stdout",
     "output_type": "stream",
     "text": [
      "Blue flower\n"
     ]
    }
   ],
   "source": [
    "find_color(3,0.2)"
   ]
  },
  {
   "cell_type": "code",
   "execution_count": null,
   "metadata": {},
   "outputs": [],
   "source": []
  },
  {
   "cell_type": "code",
   "execution_count": null,
   "metadata": {},
   "outputs": [],
   "source": []
  },
  {
   "cell_type": "code",
   "execution_count": null,
   "metadata": {},
   "outputs": [],
   "source": []
  },
  {
   "cell_type": "code",
   "execution_count": null,
   "metadata": {},
   "outputs": [],
   "source": []
  },
  {
   "cell_type": "code",
   "execution_count": null,
   "metadata": {},
   "outputs": [],
   "source": []
  },
  {
   "cell_type": "code",
   "execution_count": null,
   "metadata": {},
   "outputs": [],
   "source": []
  },
  {
   "cell_type": "code",
   "execution_count": null,
   "metadata": {},
   "outputs": [],
   "source": []
  },
  {
   "cell_type": "code",
   "execution_count": null,
   "metadata": {},
   "outputs": [],
   "source": []
  },
  {
   "cell_type": "code",
   "execution_count": null,
   "metadata": {},
   "outputs": [],
   "source": []
  }
 ],
 "metadata": {
  "kernelspec": {
   "display_name": "Python 3",
   "language": "python",
   "name": "python3"
  },
  "language_info": {
   "codemirror_mode": {
    "name": "ipython",
    "version": 3
   },
   "file_extension": ".py",
   "mimetype": "text/x-python",
   "name": "python",
   "nbconvert_exporter": "python",
   "pygments_lexer": "ipython3",
   "version": "3.6.5"
  }
 },
 "nbformat": 4,
 "nbformat_minor": 2
}
